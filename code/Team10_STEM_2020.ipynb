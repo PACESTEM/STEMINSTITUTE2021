{
  "nbformat": 4,
  "nbformat_minor": 0,
  "metadata": {
    "colab": {
      "name": "Team10 - STEM 2020",
      "provenance": [],
      "collapsed_sections": []
    },
    "kernelspec": {
      "name": "python3",
      "display_name": "Python 3"
    }
  },
  "cells": [
    {
      "cell_type": "markdown",
      "metadata": {
        "id": "KC574lSAd0bS",
        "colab_type": "text"
      },
      "source": [
        "# **Team 10 - BOP Data Analysis**\n",
        "\n",
        "**Code by  Sara, Bahar, Andrew, Noah, Jakob, Abnerline**\n",
        "\n",
        "Mentor: Swetha\n",
        "\n",
        "**(Pizza Pandas)**\n",
        "\n",
        "**Research question:** How does the dissolved oxygen level of water affect oyster growth?\n"
      ]
    },
    {
      "cell_type": "code",
      "metadata": {
        "id": "KbtSrNfQ8aXj",
        "colab_type": "code",
        "colab": {
          "base_uri": "https://localhost:8080/",
          "height": 75
        },
        "outputId": "65249951-efb9-4862-d87f-dc91326a615a"
      },
      "source": [
        "# Load libraries\n",
        "%matplotlib notebook\n",
        "import numpy as np\n",
        "import scipy as sp\n",
        "from scipy import stats\n",
        "import pandas as pd\n",
        "import matplotlib.pyplot as plt\n",
        "import seaborn as sns\n",
        "sns.set()"
      ],
      "execution_count": null,
      "outputs": [
        {
          "output_type": "stream",
          "text": [
            "/usr/local/lib/python3.6/dist-packages/statsmodels/tools/_testing.py:19: FutureWarning: pandas.util.testing is deprecated. Use the functions in the public API at pandas.testing instead.\n",
            "  import pandas.util.testing as tm\n"
          ],
          "name": "stderr"
        }
      ]
    },
    {
      "cell_type": "code",
      "metadata": {
        "id": "EZmSIZCy-7NW",
        "colab_type": "code",
        "colab": {
          "base_uri": "https://localhost:8080/",
          "height": 36
        },
        "outputId": "b8be1a88-9191-4dc0-cc5d-41a672db0ecd"
      },
      "source": [
        "data = pd.read_csv('bop_data_retrivedbyian.csv')\n",
        "\n",
        "# finding outlier max and min limits\n",
        "outliersLow = 25. - 1.5*(40. - 25.)\n",
        "outliersHigh = 40. + 1.5*(40. - 25.)\n",
        "\n",
        "data.head()\n",
        "data.shape"
      ],
      "execution_count": null,
      "outputs": [
        {
          "output_type": "execute_result",
          "data": {
            "text/plain": [
              "(1097, 50)"
            ]
          },
          "metadata": {
            "tags": []
          },
          "execution_count": 2
        }
      ]
    },
    {
      "cell_type": "code",
      "metadata": {
        "id": "dJRemi5rA19o",
        "colab_type": "code",
        "colab": {
          "base_uri": "https://localhost:8080/",
          "height": 414
        },
        "outputId": "10b183ef-de73-4873-8c36-71f7f8041917"
      },
      "source": [
        "vals = data[['dissolvedOxygen_average', 'sizeOfLiveOysterMM']]\n",
        "row, col = vals.shape\n",
        "\n",
        "for x in range(row):\n",
        "  if vals.iloc[x]['sizeOfLiveOysterMM'] < outliersLow or vals.iloc[x]['sizeOfLiveOysterMM'] > outliersHigh:\n",
        "    vals.iloc[x]['sizeOfLiveOysterMM'] = np.nan\n",
        "  if vals.iloc[x]['dissolvedOxygen_average'] == 77.3:\n",
        "    vals.iloc[x]['dissolvedOxygen_average'] = np.nan\n",
        "  vals.iloc[x]['dissolvedOxygen_average'] = round(vals.iloc[x]['dissolvedOxygen_average'], 2)\n",
        "\n",
        "vals = vals.dropna()\n",
        "\n",
        "oxygenAverage = pd.Series(vals.iloc[:, col - 2]).astype(float)\n",
        "oysterSizes = pd.Series(vals.iloc[:, col - 1]).astype(float)\n",
        "\n",
        "vals = pd.DataFrame({'Average Dissolved Oxygen (mgl)': oxygenAverage.values, 'Average Oyster Size (mm)': oysterSizes.values})\n",
        "vals = pd.DataFrame(vals).dropna()\n",
        "\n",
        "vals.groupby('Average Dissolved Oxygen (mgl)').mean().round(4)"
      ],
      "execution_count": null,
      "outputs": [
        {
          "output_type": "execute_result",
          "data": {
            "text/html": [
              "<div>\n",
              "<style scoped>\n",
              "    .dataframe tbody tr th:only-of-type {\n",
              "        vertical-align: middle;\n",
              "    }\n",
              "\n",
              "    .dataframe tbody tr th {\n",
              "        vertical-align: top;\n",
              "    }\n",
              "\n",
              "    .dataframe thead th {\n",
              "        text-align: right;\n",
              "    }\n",
              "</style>\n",
              "<table border=\"1\" class=\"dataframe\">\n",
              "  <thead>\n",
              "    <tr style=\"text-align: right;\">\n",
              "      <th></th>\n",
              "      <th>Average Oyster Size (mm)</th>\n",
              "    </tr>\n",
              "    <tr>\n",
              "      <th>Average Dissolved Oxygen (mgl)</th>\n",
              "      <th></th>\n",
              "    </tr>\n",
              "  </thead>\n",
              "  <tbody>\n",
              "    <tr>\n",
              "      <th>4.00</th>\n",
              "      <td>29.6067</td>\n",
              "    </tr>\n",
              "    <tr>\n",
              "      <th>4.17</th>\n",
              "      <td>37.3514</td>\n",
              "    </tr>\n",
              "    <tr>\n",
              "      <th>4.33</th>\n",
              "      <td>29.0532</td>\n",
              "    </tr>\n",
              "    <tr>\n",
              "      <th>4.50</th>\n",
              "      <td>25.2941</td>\n",
              "    </tr>\n",
              "    <tr>\n",
              "      <th>5.00</th>\n",
              "      <td>32.1197</td>\n",
              "    </tr>\n",
              "    <tr>\n",
              "      <th>5.33</th>\n",
              "      <td>40.3590</td>\n",
              "    </tr>\n",
              "    <tr>\n",
              "      <th>5.67</th>\n",
              "      <td>30.7849</td>\n",
              "    </tr>\n",
              "    <tr>\n",
              "      <th>6.00</th>\n",
              "      <td>40.6385</td>\n",
              "    </tr>\n",
              "    <tr>\n",
              "      <th>7.00</th>\n",
              "      <td>30.8091</td>\n",
              "    </tr>\n",
              "    <tr>\n",
              "      <th>7.33</th>\n",
              "      <td>45.3125</td>\n",
              "    </tr>\n",
              "    <tr>\n",
              "      <th>9.00</th>\n",
              "      <td>26.0800</td>\n",
              "    </tr>\n",
              "  </tbody>\n",
              "</table>\n",
              "</div>"
            ],
            "text/plain": [
              "                                Average Oyster Size (mm)\n",
              "Average Dissolved Oxygen (mgl)                          \n",
              "4.00                                             29.6067\n",
              "4.17                                             37.3514\n",
              "4.33                                             29.0532\n",
              "4.50                                             25.2941\n",
              "5.00                                             32.1197\n",
              "5.33                                             40.3590\n",
              "5.67                                             30.7849\n",
              "6.00                                             40.6385\n",
              "7.00                                             30.8091\n",
              "7.33                                             45.3125\n",
              "9.00                                             26.0800"
            ]
          },
          "metadata": {
            "tags": []
          },
          "execution_count": 3
        }
      ]
    },
    {
      "cell_type": "code",
      "metadata": {
        "id": "pcordTfaJZD4",
        "colab_type": "code",
        "colab": {
          "base_uri": "https://localhost:8080/",
          "height": 318
        },
        "outputId": "9b1fd114-9c0d-4c62-be78-659ad44d464a"
      },
      "source": [
        "vals.groupby('Average Dissolved Oxygen (mgl)').mean().plot.bar()"
      ],
      "execution_count": null,
      "outputs": [
        {
          "output_type": "execute_result",
          "data": {
            "text/plain": [
              "<matplotlib.axes._subplots.AxesSubplot at 0x7f932d201ac8>"
            ]
          },
          "metadata": {
            "tags": []
          },
          "execution_count": 4
        },
        {
          "output_type": "display_data",
          "data": {
            "image/png": "[encoded data removed]",
            "text/plain": [
              "<Figure size 432x288 with 1 Axes>"
            ]
          },
          "metadata": {
            "tags": [],
            "needs_background": "light"
          }
        }
      ]
    },
    {
      "cell_type": "code",
      "metadata": {
        "id": "UtbFOjWcY1q-",
        "colab_type": "code",
        "colab": {}
      },
      "source": [
        "valsTEMP = pd.DataFrame({'Average Dissolved Oxygen (mgl)': oxygenAverage.values, 'Oyster Size (mm)': oysterSizes.values})\n",
        "valsTEMP = pd.DataFrame(valsTEMP).dropna()"
      ],
      "execution_count": null,
      "outputs": []
    },
    {
      "cell_type": "code",
      "metadata": {
        "id": "4LlWPkXLbtSg",
        "colab_type": "code",
        "colab": {
          "base_uri": "https://localhost:8080/",
          "height": 343
        },
        "outputId": "eb8c7899-e91e-4c55-e779-788731c19e46"
      },
      "source": [
        "valsTEMP.plot.scatter(y = 'Oyster Size (mm)', x = 'Average Dissolved Oxygen (mgl)')"
      ],
      "execution_count": null,
      "outputs": [
        {
          "output_type": "stream",
          "text": [
            "*c* argument looks like a single numeric RGB or RGBA sequence, which should be avoided as value-mapping will have precedence in case its length matches with *x* & *y*.  Please use the *color* keyword-argument or provide a 2-D array with a single row if you intend to specify the same RGB or RGBA value for all points.\n"
          ],
          "name": "stderr"
        },
        {
          "output_type": "execute_result",
          "data": {
            "text/plain": [
              "<matplotlib.axes._subplots.AxesSubplot at 0x7f932d081160>"
            ]
          },
          "metadata": {
            "tags": []
          },
          "execution_count": 9
        },
        {
          "output_type": "display_data",
          "data": {
            "image/png": "[encoded data removed]",
            "text/plain": [
              "<Figure size 432x288 with 1 Axes>"
            ]
          },
          "metadata": {
            "tags": [],
            "needs_background": "light"
          }
        }
      ]
    },
    {
      "cell_type": "code",
      "metadata": {
        "id": "vj9XHVqpL4DB",
        "colab_type": "code",
        "colab": {
          "base_uri": "https://localhost:8080/",
          "height": 55
        },
        "outputId": "d88ceabb-090e-44b7-d066-9f73307f0a00"
      },
      "source": [
        "np.corrcoef(vals['Average Dissolved Oxygen (mgl)'], vals['Average Oyster Size (mm)'])"
      ],
      "execution_count": null,
      "outputs": [
        {
          "output_type": "execute_result",
          "data": {
            "text/plain": [
              "array([[1.        , 0.06835076],\n",
              "       [0.06835076, 1.        ]])"
            ]
          },
          "metadata": {
            "tags": []
          },
          "execution_count": 10
        }
      ]
    },
    {
      "cell_type": "code",
      "metadata": {
        "id": "vD1-oS3aZP5t",
        "colab_type": "code",
        "colab": {
          "base_uri": "https://localhost:8080/",
          "height": 36
        },
        "outputId": "3ff882e0-e81c-48ec-fec1-c2bcad2b47cf"
      },
      "source": [
        "corrcoef, pval = sp.stats.pearsonr(vals['Average Dissolved Oxygen (mgl)'], vals['Average Oyster Size (mm)'])\n",
        "print(f'corrcoef = {corrcoef:.4f}\\t\\tp-value = {pval:.4f}')"
      ],
      "execution_count": null,
      "outputs": [
        {
          "output_type": "stream",
          "text": [
            "corrcoef = 0.0684\t\tp-value = 0.0305\n"
          ],
          "name": "stdout"
        }
      ]
    }
  ]
}