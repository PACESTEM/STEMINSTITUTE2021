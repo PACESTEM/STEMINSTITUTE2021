{
  "nbformat": 4,
  "nbformat_minor": 0,
  "metadata": {
    "colab": {
      "name": "Team 6 - STEM 2020",
      "provenance": [],
      "collapsed_sections": []
    },
    "kernelspec": {
      "name": "python3",
      "display_name": "Python 3"
    }
  },
  "cells": [
    {
      "cell_type": "markdown",
      "metadata": {
        "id": "eyjWG6__qwyJ",
        "colab_type": "text"
      },
      "source": [
        "##**Team 6 - Billion Oyster Project**\n",
        "\n",
        "**Code by: Grace Wei, Aranna Tasnim, Bekhruz Malikov, Anthony Ge,Noah Mintzer**\n",
        "\n",
        "**The Alpha Team**\n",
        "\n",
        "**Data:** bop_data_retrieved_by_ian\n",
        "\n",
        "**Research question:** Effects of Turbidity and pH on the Size of Oysters "
      ]
    },
    {
      "cell_type": "code",
      "metadata": {
        "id": "R3rntm1M9e2i",
        "colab_type": "code",
        "colab": {}
      },
      "source": [
        "# Load our libraries\n",
        "%matplotlib notebook\n",
        "import numpy as np\n",
        "import scipy as sp\n",
        "from scipy import stats\n",
        "import pandas as pd\n",
        "import matplotlib.pyplot as plt\n",
        "import seaborn as sns\n",
        "sns.set()"
      ],
      "execution_count": null,
      "outputs": []
    },
    {
      "cell_type": "code",
      "metadata": {
        "id": "EH6z-mrlBeMx",
        "colab_type": "code",
        "colab": {}
      },
      "source": [
        "data2020 = pd.read_csv('http://webpage.pace.edu/fparisi/STEM-2020/Python/bop_data_retrivedbyian.csv', header=0)"
      ],
      "execution_count": null,
      "outputs": []
    },
    {
      "cell_type": "markdown",
      "metadata": {
        "id": "-P9y2XtpcCoe",
        "colab_type": "text"
      },
      "source": [
        "###Dealing with the correlation between turbidity and oyster size"
      ]
    },
    {
      "cell_type": "code",
      "metadata": {
        "id": "oTvn4OIeQTcF",
        "colab_type": "code",
        "colab": {
          "base_uri": "https://localhost:8080/",
          "height": 416
        },
        "outputId": "b12a1d9c-8c2c-4695-e061-0814d81d7e79"
      },
      "source": [
        "# Create a new dataframe using only the turbidity_average and sizeOfLiveOysterMM columns\n",
        "newData1 = pd.DataFrame({'Average_Turbidity': data2020['turbidity_average'], 'Oyster_Size': data2020['sizeOfLiveOysterMM']})\n",
        "# Drop all rows with NaN values and display new dataframe\n",
        "newData1 = newData1.dropna()\n",
        "newData1"
      ],
      "execution_count": null,
      "outputs": [
        {
          "output_type": "execute_result",
          "data": {
            "text/html": [
              "<div>\n",
              "<style scoped>\n",
              "    .dataframe tbody tr th:only-of-type {\n",
              "        vertical-align: middle;\n",
              "    }\n",
              "\n",
              "    .dataframe tbody tr th {\n",
              "        vertical-align: top;\n",
              "    }\n",
              "\n",
              "    .dataframe thead th {\n",
              "        text-align: right;\n",
              "    }\n",
              "</style>\n",
              "<table border=\"1\" class=\"dataframe\">\n",
              "  <thead>\n",
              "    <tr style=\"text-align: right;\">\n",
              "      <th></th>\n",
              "      <th>Average_Turbidity</th>\n",
              "      <th>Oyster_Size</th>\n",
              "    </tr>\n",
              "  </thead>\n",
              "  <tbody>\n",
              "    <tr>\n",
              "      <th>0</th>\n",
              "      <td>64.80</td>\n",
              "      <td>22.0</td>\n",
              "    </tr>\n",
              "    <tr>\n",
              "      <th>1</th>\n",
              "      <td>64.80</td>\n",
              "      <td>41.0</td>\n",
              "    </tr>\n",
              "    <tr>\n",
              "      <th>2</th>\n",
              "      <td>64.80</td>\n",
              "      <td>25.0</td>\n",
              "    </tr>\n",
              "    <tr>\n",
              "      <th>3</th>\n",
              "      <td>64.80</td>\n",
              "      <td>21.0</td>\n",
              "    </tr>\n",
              "    <tr>\n",
              "      <th>4</th>\n",
              "      <td>64.80</td>\n",
              "      <td>23.0</td>\n",
              "    </tr>\n",
              "    <tr>\n",
              "      <th>...</th>\n",
              "      <td>...</td>\n",
              "      <td>...</td>\n",
              "    </tr>\n",
              "    <tr>\n",
              "      <th>1092</th>\n",
              "      <td>47.67</td>\n",
              "      <td>47.0</td>\n",
              "    </tr>\n",
              "    <tr>\n",
              "      <th>1093</th>\n",
              "      <td>47.67</td>\n",
              "      <td>46.0</td>\n",
              "    </tr>\n",
              "    <tr>\n",
              "      <th>1094</th>\n",
              "      <td>47.67</td>\n",
              "      <td>46.0</td>\n",
              "    </tr>\n",
              "    <tr>\n",
              "      <th>1095</th>\n",
              "      <td>47.67</td>\n",
              "      <td>39.0</td>\n",
              "    </tr>\n",
              "    <tr>\n",
              "      <th>1096</th>\n",
              "      <td>47.67</td>\n",
              "      <td>42.0</td>\n",
              "    </tr>\n",
              "  </tbody>\n",
              "</table>\n",
              "<p>780 rows × 2 columns</p>\n",
              "</div>"
            ],
            "text/plain": [
              "      Average_Turbidity  Oyster_Size\n",
              "0                 64.80         22.0\n",
              "1                 64.80         41.0\n",
              "2                 64.80         25.0\n",
              "3                 64.80         21.0\n",
              "4                 64.80         23.0\n",
              "...                 ...          ...\n",
              "1092              47.67         47.0\n",
              "1093              47.67         46.0\n",
              "1094              47.67         46.0\n",
              "1095              47.67         39.0\n",
              "1096              47.67         42.0\n",
              "\n",
              "[780 rows x 2 columns]"
            ]
          },
          "metadata": {
            "tags": []
          },
          "execution_count": 4
        }
      ]
    },
    {
      "cell_type": "code",
      "metadata": {
        "id": "ZC5DNATGR6Q-",
        "colab_type": "code",
        "colab": {
          "base_uri": "https://localhost:8080/",
          "height": 242
        },
        "outputId": "38cb6bbe-7d7f-47c4-a16f-86f003ef9a6a"
      },
      "source": [
        "newData1['Average_Turbidity'].value_counts()"
      ],
      "execution_count": null,
      "outputs": [
        {
          "output_type": "execute_result",
          "data": {
            "text/plain": [
              "47.670000     109\n",
              "51.070000     102\n",
              "21.330000     102\n",
              "72.670000      98\n",
              "101.330000     89\n",
              "0.000000       53\n",
              "64.800000      47\n",
              "63.833333      46\n",
              "65.000000      44\n",
              "64.000000      39\n",
              "29.330000      26\n",
              "80.000000      25\n",
              "Name: Average_Turbidity, dtype: int64"
            ]
          },
          "metadata": {
            "tags": []
          },
          "execution_count": 5
        }
      ]
    },
    {
      "cell_type": "code",
      "metadata": {
        "id": "f-4YiZPrS8Pv",
        "colab_type": "code",
        "colab": {
          "base_uri": "https://localhost:8080/",
          "height": 69
        },
        "outputId": "9fe796c2-fd94-4249-d6da-c0f615b70064"
      },
      "source": [
        "# Find correlation between turbidity and oyster size\n",
        "print(np.corrcoef(newData1['Average_Turbidity'],newData1['Oyster_Size']))\n",
        "# Correlation's signficance\n",
        "rho, pstat = sp.stats.pearsonr(newData1['Average_Turbidity'] , newData1['Oyster_Size'])\n",
        "print('rho = %.4f' % rho, 'p-val = %.4f' % pstat)\n"
      ],
      "execution_count": null,
      "outputs": [
        {
          "output_type": "stream",
          "text": [
            "[[1.         0.18450894]\n",
            " [0.18450894 1.        ]]\n",
            "rho = 0.1845 p-val = 0.0000\n"
          ],
          "name": "stdout"
        }
      ]
    },
    {
      "cell_type": "code",
      "metadata": {
        "id": "5Z7QkQcdCrsH",
        "colab_type": "code",
        "colab": {
          "base_uri": "https://localhost:8080/",
          "height": 52
        },
        "outputId": "7fbae451-447c-4bb2-df20-8a3a0bab95f8"
      },
      "source": [
        "newData1.tail()\n",
        "print(len(newData1['Average_Turbidity']))\n",
        "print(len(newData1['Oyster_Size']))"
      ],
      "execution_count": null,
      "outputs": [
        {
          "output_type": "stream",
          "text": [
            "780\n",
            "780\n"
          ],
          "name": "stdout"
        }
      ]
    },
    {
      "cell_type": "code",
      "metadata": {
        "id": "p361Ue2M8u0Z",
        "colab_type": "code",
        "colab": {
          "base_uri": "https://localhost:8080/",
          "height": 302
        },
        "outputId": "b2afacc2-8e59-450c-e7a9-bdc86775c305"
      },
      "source": [
        "# Code to create a scatterplot (or whatever graph we choose to do)\n",
        "newData1.plot.scatter(y = 'Oyster_Size', x = 'Average_Turbidity', c = 'blue')\n"
      ],
      "execution_count": null,
      "outputs": [
        {
          "output_type": "execute_result",
          "data": {
            "text/plain": [
              "<matplotlib.axes._subplots.AxesSubplot at 0x7f1bac744320>"
            ]
          },
          "metadata": {
            "tags": []
          },
          "execution_count": 8
        },
        {
          "output_type": "display_data",
          "data": {
            "image/png": "[encoded data removed]",
            "text/plain": [
              "<Figure size 432x288 with 1 Axes>"
            ]
          },
          "metadata": {
            "tags": [],
            "needs_background": "light"
          }
        }
      ]
    },
    {
      "cell_type": "markdown",
      "metadata": {
        "id": "lRhGFX5ncIOa",
        "colab_type": "text"
      },
      "source": [
        "###Dealing with the correlation between pH and oyster size"
      ]
    },
    {
      "cell_type": "code",
      "metadata": {
        "id": "qUbg_B7GUaN4",
        "colab_type": "code",
        "colab": {
          "base_uri": "https://localhost:8080/",
          "height": 416
        },
        "outputId": "39faf2c3-35e7-451c-b344-8e155a92c36c"
      },
      "source": [
        "# Deal with pH outliers by setting them to NaN\n",
        "data2020['pH_average'] = data2020['pH_average'].replace(17.6,np.nan)\n",
        "# Create a new dataframe using the pH_average and sizeOfLiveOysterMM columns\n",
        "newData = pd.DataFrame({'Average_pH': data2020['pH_average'], 'Oyster_Size': data2020['sizeOfLiveOysterMM']})\n",
        "# Drop all rows with NaN values and display new data table\n",
        "newData = newData.dropna()\n",
        "newData"
      ],
      "execution_count": null,
      "outputs": [
        {
          "output_type": "execute_result",
          "data": {
            "text/html": [
              "<div>\n",
              "<style scoped>\n",
              "    .dataframe tbody tr th:only-of-type {\n",
              "        vertical-align: middle;\n",
              "    }\n",
              "\n",
              "    .dataframe tbody tr th {\n",
              "        vertical-align: top;\n",
              "    }\n",
              "\n",
              "    .dataframe thead th {\n",
              "        text-align: right;\n",
              "    }\n",
              "</style>\n",
              "<table border=\"1\" class=\"dataframe\">\n",
              "  <thead>\n",
              "    <tr style=\"text-align: right;\">\n",
              "      <th></th>\n",
              "      <th>Average_pH</th>\n",
              "      <th>Oyster_Size</th>\n",
              "    </tr>\n",
              "  </thead>\n",
              "  <tbody>\n",
              "    <tr>\n",
              "      <th>0</th>\n",
              "      <td>7.833333</td>\n",
              "      <td>22.0</td>\n",
              "    </tr>\n",
              "    <tr>\n",
              "      <th>1</th>\n",
              "      <td>7.833333</td>\n",
              "      <td>41.0</td>\n",
              "    </tr>\n",
              "    <tr>\n",
              "      <th>2</th>\n",
              "      <td>7.833333</td>\n",
              "      <td>25.0</td>\n",
              "    </tr>\n",
              "    <tr>\n",
              "      <th>3</th>\n",
              "      <td>7.833333</td>\n",
              "      <td>21.0</td>\n",
              "    </tr>\n",
              "    <tr>\n",
              "      <th>4</th>\n",
              "      <td>7.833333</td>\n",
              "      <td>23.0</td>\n",
              "    </tr>\n",
              "    <tr>\n",
              "      <th>...</th>\n",
              "      <td>...</td>\n",
              "      <td>...</td>\n",
              "    </tr>\n",
              "    <tr>\n",
              "      <th>1092</th>\n",
              "      <td>6.000000</td>\n",
              "      <td>47.0</td>\n",
              "    </tr>\n",
              "    <tr>\n",
              "      <th>1093</th>\n",
              "      <td>6.000000</td>\n",
              "      <td>46.0</td>\n",
              "    </tr>\n",
              "    <tr>\n",
              "      <th>1094</th>\n",
              "      <td>6.000000</td>\n",
              "      <td>46.0</td>\n",
              "    </tr>\n",
              "    <tr>\n",
              "      <th>1095</th>\n",
              "      <td>6.000000</td>\n",
              "      <td>39.0</td>\n",
              "    </tr>\n",
              "    <tr>\n",
              "      <th>1096</th>\n",
              "      <td>6.000000</td>\n",
              "      <td>42.0</td>\n",
              "    </tr>\n",
              "  </tbody>\n",
              "</table>\n",
              "<p>986 rows × 2 columns</p>\n",
              "</div>"
            ],
            "text/plain": [
              "      Average_pH  Oyster_Size\n",
              "0       7.833333         22.0\n",
              "1       7.833333         41.0\n",
              "2       7.833333         25.0\n",
              "3       7.833333         21.0\n",
              "4       7.833333         23.0\n",
              "...          ...          ...\n",
              "1092    6.000000         47.0\n",
              "1093    6.000000         46.0\n",
              "1094    6.000000         46.0\n",
              "1095    6.000000         39.0\n",
              "1096    6.000000         42.0\n",
              "\n",
              "[986 rows x 2 columns]"
            ]
          },
          "metadata": {
            "tags": []
          },
          "execution_count": 10
        }
      ]
    },
    {
      "cell_type": "code",
      "metadata": {
        "id": "LQ6LnFTucX65",
        "colab_type": "code",
        "colab": {
          "base_uri": "https://localhost:8080/",
          "height": 69
        },
        "outputId": "34ef8983-8c58-45b4-8d47-e3fb2d6cb7bd"
      },
      "source": [
        "# Find correlation between pH and oyster size here\n",
        "print(np.corrcoef(newData['Average_pH'],newData['Oyster_Size']))\n",
        "#Correlation's significance\n",
        "rho, pstat = sp.stats.pearsonr(newData['Average_pH'] , newData['Oyster_Size'])\n",
        "print('rho = %.4f' % rho, 'p-val = %.4f' % pstat)"
      ],
      "execution_count": null,
      "outputs": [
        {
          "output_type": "stream",
          "text": [
            "[[ 1.         -0.18608462]\n",
            " [-0.18608462  1.        ]]\n",
            "rho = -0.1861 p-val = 0.0000\n"
          ],
          "name": "stdout"
        }
      ]
    },
    {
      "cell_type": "code",
      "metadata": {
        "id": "ZQUaFxcy80eF",
        "colab_type": "code",
        "colab": {
          "base_uri": "https://localhost:8080/",
          "height": 302
        },
        "outputId": "ac43ec56-4d4f-4e65-cb23-3908361a7337"
      },
      "source": [
        "# Code to create a scatterplot (or whatever graph we choose to do)\n",
        "newData.plot.scatter(y = 'Oyster_Size', x = 'Average_pH', c = 'blue')"
      ],
      "execution_count": null,
      "outputs": [
        {
          "output_type": "execute_result",
          "data": {
            "text/plain": [
              "<matplotlib.axes._subplots.AxesSubplot at 0x7f1bac58d8d0>"
            ]
          },
          "metadata": {
            "tags": []
          },
          "execution_count": 12
        },
        {
          "output_type": "display_data",
          "data": {
            "image/png": "[encoded data removed]",
            "text/plain": [
              "<Figure size 432x288 with 1 Axes>"
            ]
          },
          "metadata": {
            "tags": [],
            "needs_background": "light"
          }
        }
      ]
    }
  ]
}